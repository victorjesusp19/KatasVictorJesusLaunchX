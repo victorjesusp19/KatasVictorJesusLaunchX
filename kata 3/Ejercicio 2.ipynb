{
 "cells": [
  {
   "cell_type": "code",
   "execution_count": null,
   "metadata": {},
   "outputs": [],
   "source": [
    "asteroide = int(input(\"¿velocidad del asteroide? \"))\n",
    "if asteroide > 20:\n",
    "    print('si se puede ver una luz')\n",
    "elif asteroide == 20:\n",
    "    print('si se puede ver una luz')\n",
    "else:\n",
    "    print('no se puede ver la luz')"
   ]
  }
 ],
 "metadata": {
  "interpreter": {
   "hash": "a3d181ecd14fff7f2aba3f3037189a7935f46903592a6aea8e207bd5f91c461c"
  },
  "kernelspec": {
   "display_name": "Python 3.10.0 64-bit",
   "language": "python",
   "name": "python3"
  },
  "language_info": {
   "codemirror_mode": {
    "name": "ipython",
    "version": 3
   },
   "file_extension": ".py",
   "mimetype": "text/x-python",
   "name": "python",
   "nbconvert_exporter": "python",
   "pygments_lexer": "ipython3",
   "version": "3.10.0"
  },
  "orig_nbformat": 4
 },
 "nbformat": 4,
 "nbformat_minor": 2
}
