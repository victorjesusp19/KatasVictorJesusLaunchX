{
 "cells": [
  {
   "cell_type": "markdown",
   "metadata": {},
   "source": [
    "este ejercicio no lo hice solo lo analice para tratar de comprenderlo "
   ]
  },
  {
   "cell_type": "code",
   "execution_count": null,
   "metadata": {},
   "outputs": [],
   "source": [
    "# Función para leer 3 tanques de combustible y muestre el promedio\n",
    "\n",
    "def generate_report(tanque_principal, tanque_externo, tanque_hidrógeno):\n",
    "    Promedio_total = (tanque_principal + tanque_externo + tanque_hidrógeno) / 3\n",
    "    return f\"\"\"Informe de combustible:\n",
    "    Promedio total: {Promedio_total}%\n",
    "    tanque principal: {tanque_principal}%\n",
    "    tanque externo: {tanque_externo}%\n",
    "    tanque hidrógeno: {tanque_hidrógeno}% \n",
    "    \"\"\""
   ]
  },
  {
   "cell_type": "code",
   "execution_count": null,
   "metadata": {},
   "outputs": [],
   "source": [
    "# Llamamos a la función que genera el reporte print(funcion(tanque1, tanque2, tanque3))\n",
    "print(generate_report(80, 70, 85))"
   ]
  },
  {
   "cell_type": "code",
   "execution_count": null,
   "metadata": {},
   "outputs": [],
   "source": [
    "# Función promedio \n",
    "def average(values):\n",
    "    total = sum(values)\n",
    "    number_of_items = len(values)\n",
    "\n",
    "    print(number_of_items)\n",
    "    \n",
    "    return total / number_of_items\n",
    "\n",
    "# Pruebe la función de promedio con una lista de números enteros:\n",
    "average([80, 85, 81]) "
   ]
  },
  {
   "cell_type": "code",
   "execution_count": null,
   "metadata": {},
   "outputs": [],
   "source": [
    "# Actualiza la función\n",
    "\n",
    "def generate_report(tanque_principal, tanque_externo, tanque_hidrógeno):\n",
    "    return f\"\"\"Informe de combustible:\n",
    "    Promedio_total = {average([tanque_principal, tanque_externo, tanque_hidrógeno])}%\n",
    "    tanque principal: {tanque_principal}%\n",
    "    tanque externo: {tanque_externo}%\n",
    "    tanque hidrógeno: {tanque_hidrógeno}% \n",
    "    \"\"\"\n",
    "\n",
    "# Llame a la función actualizada nuevamente con diferentes valores\n",
    "print(generate_report(88, 76, 70))"
   ]
  }
 ],
 "metadata": {
  "interpreter": {
   "hash": "a3d181ecd14fff7f2aba3f3037189a7935f46903592a6aea8e207bd5f91c461c"
  },
  "kernelspec": {
   "display_name": "Python 3.10.0 64-bit",
   "language": "python",
   "name": "python3"
  },
  "language_info": {
   "codemirror_mode": {
    "name": "ipython",
    "version": 3
   },
   "file_extension": ".py",
   "mimetype": "text/x-python",
   "name": "python",
   "nbconvert_exporter": "python",
   "pygments_lexer": "ipython3",
   "version": "3.10.0"
  },
  "orig_nbformat": 4
 },
 "nbformat": 4,
 "nbformat_minor": 2
}
